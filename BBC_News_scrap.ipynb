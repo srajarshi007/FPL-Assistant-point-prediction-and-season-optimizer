{
  "nbformat": 4,
  "nbformat_minor": 0,
  "metadata": {
    "colab": {
      "provenance": []
    },
    "kernelspec": {
      "name": "python3",
      "display_name": "Python 3"
    },
    "language_info": {
      "name": "python"
    }
  },
  "cells": [
    {
      "cell_type": "code",
      "execution_count": null,
      "metadata": {
        "id": "pLwEoDmgSoOu"
      },
      "outputs": [],
      "source": [
        "import requests\n",
        "from bs4 import BeautifulSoup\n",
        "\n"
      ]
    },
    {
      "cell_type": "code",
      "source": [
        "# Last name\n",
        "last_name = \"son\"  # Replace with the desired last name\n",
        "\n",
        "# URL with placeholder for last name\n",
        "URL = 'https://www.bbc.com/search?q=premier%20league%20{}'\n",
        "\n",
        "# Replace the placeholder with the last name\n",
        "URL = URL.format(last_name)\n",
        "\n",
        "# Send a GET request to the URL\n",
        "response = requests.get(URL)\n",
        "\n",
        "# Print the response\n",
        "print(response)"
      ],
      "metadata": {
        "colab": {
          "base_uri": "https://localhost:8080/"
        },
        "id": "KrEJtUEaTFts",
        "outputId": "32e8fe14-1157-4d6b-b5a0-d8017ed80cf1"
      },
      "execution_count": null,
      "outputs": [
        {
          "output_type": "stream",
          "name": "stdout",
          "text": [
            "<Response [200]>\n"
          ]
        }
      ]
    },
    {
      "cell_type": "code",
      "source": [
        "soup = BeautifulSoup(response.content,'html.parser')\n",
        "#print(soup)"
      ],
      "metadata": {
        "id": "TXRI7tGLTU90"
      },
      "execution_count": null,
      "outputs": []
    },
    {
      "cell_type": "code",
      "source": [
        "headlines = soup.find_all(class_='sc-4fedabc7-3 bvDsJq')\n",
        "\n",
        "# Find all card descriptions\n",
        "descriptions = soup.find_all(class_='sc-ae29827d-0 cNPpME')\n",
        "\n",
        "# Print headlines and descriptions\n",
        "for headline, description in zip(headlines, descriptions):\n",
        "    print(\"Headline:\", headline.text)\n",
        "    print(\"Description:\", description.text)"
      ],
      "metadata": {
        "colab": {
          "base_uri": "https://localhost:8080/"
        },
        "id": "Kb_2J4vpch1N",
        "outputId": "1f419f75-5fe1-4eba-c2d2-5f80f26e9476"
      },
      "execution_count": null,
      "outputs": [
        {
          "output_type": "stream",
          "name": "stdout",
          "text": [
            "Headline: Postecoglou praises 'brilliant' Son after Spurs win\n",
            "Description: Tottenham boss Ange Postecoglou was full of praise for Son Heung-min after his goal secured a 2-1 Premier League win over Luton.\n",
            "Headline: Planning for double gameweeks - fantasy football tips\n",
            "Description: It's time for Fantasy Football players to start planning the rest of their season - Alistair Bruce-Ball previews gameweek 30.\n",
            "Headline: Palmer a tempting captain - fantasy football tips\n",
            "Description: Cole Palmer is an obvious candidate for the captaincy, but there is plenty of competition. says Alistair Bruce-Ball.\n",
            "Headline: Little chance of late entrants to Scotland squad - gossip\n",
            "Description: Latest from Scotland camp, Rangers player's father on future and Aberdeen captain on Crohn's Disease battle.\n",
            "Headline: Heading damaged my body and I played on autopilot - Varane\n",
            "Description: Raphael Varane says he has \"damaged his body\" because of the continued impact of heading the ball.\n",
            "Headline: Who is a warrior? - Garth Crooks' Team of the Week\n",
            "Description: Which players impressed our football pundit Garth Crooks enough to make his latest Team of the Week?\n",
            "Headline: 'Unacceptable' Spurs 'didn't put the effort in' - Son\n",
            "Description: Tottenham \"didn't put in the effort\" and need a \"big wake-up call\" after their defeat by Fulham at Craven Cottage, says captain Son Heung-min.\n",
            "Headline: Tottenham Hotspur v Nottingham Forest team news\n",
            "Description: Preview followed by live coverage of Sunday's Premier League game between Tottenham Hotspur and Nottingham Forest.\n",
            "Headline: Financial reality of Championship would be 'insane'\n",
            "Description: BBC Radio Solent's Portsmouth commentator Andrew Moon reacts to news that an independent regulator will be introduced.\n"
          ]
        }
      ]
    },
    {
      "cell_type": "code",
      "source": [
        "from textblob import TextBlob\n",
        "\n"
      ],
      "metadata": {
        "id": "r4XyIyzVgUGp"
      },
      "execution_count": null,
      "outputs": []
    },
    {
      "cell_type": "code",
      "source": [
        "# Loop through headlines and descriptions\n",
        "for headline, description in zip(headlines, descriptions):\n",
        "    # Combine headline and description text\n",
        "    text = headline.text + ' ' + description.text\n",
        "\n",
        "    # Perform sentiment analysis\n",
        "    analysis = TextBlob(text)\n",
        "\n",
        "    # Print sentiment polarity and subjectivity\n",
        "    print(\"Text:\", text)\n",
        "    print(\"Sentiment Polarity:\", analysis.sentiment.polarity)\n",
        "    print(\"Sentiment Subjectivity:\", analysis.sentiment.subjectivity)\n",
        "    print(\"\\n\")"
      ],
      "metadata": {
        "colab": {
          "base_uri": "https://localhost:8080/"
        },
        "id": "qmAuNzvLgV2A",
        "outputId": "85929f23-b505-43c9-a2f0-b9eebd914e89"
      },
      "execution_count": null,
      "outputs": [
        {
          "output_type": "stream",
          "name": "stdout",
          "text": [
            "Text: Postecoglou praises 'brilliant' Son after Spurs win Tottenham boss Ange Postecoglou was full of praise for Son Heung-min after his goal secured a 2-1 Premier League win over Luton.\n",
            "Sentiment Polarity: 0.7125000000000001\n",
            "Sentiment Subjectivity: 0.5875\n",
            "\n",
            "\n",
            "Text: Planning for double gameweeks - fantasy football tips It's time for Fantasy Football players to start planning the rest of their season - Alistair Bruce-Ball previews gameweek 30.\n",
            "Sentiment Polarity: 0.0\n",
            "Sentiment Subjectivity: 0.0\n",
            "\n",
            "\n",
            "Text: Palmer a tempting captain - fantasy football tips Cole Palmer is an obvious candidate for the captaincy, but there is plenty of competition. says Alistair Bruce-Ball.\n",
            "Sentiment Polarity: 0.0\n",
            "Sentiment Subjectivity: 0.5\n",
            "\n",
            "\n",
            "Text: Little chance of late entrants to Scotland squad - gossip Latest from Scotland camp, Rangers player's father on future and Aberdeen captain on Crohn's Disease battle.\n",
            "Sentiment Polarity: 0.0031250000000000028\n",
            "Sentiment Subjectivity: 0.53125\n",
            "\n",
            "\n",
            "Text: Heading damaged my body and I played on autopilot - Varane Raphael Varane says he has \"damaged his body\" because of the continued impact of heading the ball.\n",
            "Sentiment Polarity: 0.0\n",
            "Sentiment Subjectivity: 0.0\n",
            "\n",
            "\n",
            "Text: Who is a warrior? - Garth Crooks' Team of the Week Which players impressed our football pundit Garth Crooks enough to make his latest Team of the Week?\n",
            "Sentiment Polarity: 0.5\n",
            "Sentiment Subjectivity: 0.7999999999999999\n",
            "\n",
            "\n",
            "Text: 'Unacceptable' Spurs 'didn't put the effort in' - Son Tottenham \"didn't put in the effort\" and need a \"big wake-up call\" after their defeat by Fulham at Craven Cottage, says captain Son Heung-min.\n",
            "Sentiment Polarity: 0.0\n",
            "Sentiment Subjectivity: 0.1\n",
            "\n",
            "\n",
            "Text: Tottenham Hotspur v Nottingham Forest team news Preview followed by live coverage of Sunday's Premier League game between Tottenham Hotspur and Nottingham Forest.\n",
            "Sentiment Polarity: -0.13181818181818183\n",
            "Sentiment Subjectivity: 0.45\n",
            "\n",
            "\n",
            "Text: Financial reality of Championship would be 'insane' BBC Radio Solent's Portsmouth commentator Andrew Moon reacts to news that an independent regulator will be introduced.\n",
            "Sentiment Polarity: -0.3333333333333333\n",
            "Sentiment Subjectivity: 0.375\n",
            "\n",
            "\n"
          ]
        }
      ]
    },
    {
      "cell_type": "code",
      "source": [
        "from transformers import BertTokenizer, BertForSequenceClassification\n",
        "import torch\n",
        "\n",
        "# Load pre-trained BERT model and tokenizer\n",
        "model_name = 'bert-base-uncased'\n",
        "tokenizer = BertTokenizer.from_pretrained(model_name)\n",
        "model = BertForSequenceClassification.from_pretrained(model_name)\n",
        "\n",
        "\n"
      ],
      "metadata": {
        "colab": {
          "base_uri": "https://localhost:8080/"
        },
        "id": "CnaEXjSbhDe4",
        "outputId": "c8a237e6-a864-4b56-d6ad-b90f1b3c9ef1"
      },
      "execution_count": null,
      "outputs": [
        {
          "output_type": "stream",
          "name": "stderr",
          "text": [
            "Some weights of BertForSequenceClassification were not initialized from the model checkpoint at bert-base-uncased and are newly initialized: ['classifier.bias', 'classifier.weight']\n",
            "You should probably TRAIN this model on a down-stream task to be able to use it for predictions and inference.\n"
          ]
        }
      ]
    },
    {
      "cell_type": "code",
      "source": [
        "\n",
        "# Initialize lists to store sentiment polarities\n",
        "sentiment_polarities = []\n",
        "\n",
        "# Perform sentiment analysis for each data point\n",
        "for headline, description in zip(headlines, descriptions):\n",
        "    # Combine headline and description\n",
        "    text = headline.text + ' ' + description.text\n",
        "\n",
        "    # Tokenize the text\n",
        "    inputs = tokenizer(text, return_tensors='pt', max_length=512, truncation=True)\n",
        "\n",
        "    # Perform inference\n",
        "    outputs = model(**inputs)\n",
        "\n",
        "    # Extract predicted sentiment\n",
        "    predicted_class = torch.argmax(outputs.logits).item()\n",
        "\n",
        "    # Map predicted class to sentiment label\n",
        "    sentiments = ['negative', 'neutral', 'positive']\n",
        "    predicted_sentiment = sentiments[predicted_class]\n",
        "\n",
        "    # Print results\n",
        "    #print(\"Headline:\", headline)\n",
        "    #print(\"Description:\", description)\n",
        "    print(\"text:\", text)\n",
        "    print(\"Predicted Sentiment:\", predicted_sentiment)\n",
        "    print()\n",
        "\n",
        "    # Calculate sentiment polarity\n",
        "    if predicted_sentiment == 'positive':\n",
        "        sentiment_polarity = 1\n",
        "    elif predicted_sentiment == 'negative':\n",
        "        sentiment_polarity = -1\n",
        "    else:\n",
        "        sentiment_polarity = 0\n",
        "\n",
        "    # Append sentiment polarity to the list\n",
        "    sentiment_polarities.append(sentiment_polarity)\n",
        "\n",
        "# Calculate aggregated sentiment polarity\n",
        "aggregated_sentiment = sum(sentiment_polarities) / len(sentiment_polarities)\n",
        "print(\"Aggregated Sentiment Polarity:\", aggregated_sentiment)"
      ],
      "metadata": {
        "colab": {
          "base_uri": "https://localhost:8080/"
        },
        "id": "lTiFJdoKht3n",
        "outputId": "849f8187-c6ad-49ee-c47a-3c4b2b6298b2"
      },
      "execution_count": null,
      "outputs": [
        {
          "output_type": "stream",
          "name": "stdout",
          "text": [
            "text: Postecoglou praises 'brilliant' Son after Spurs win Tottenham boss Ange Postecoglou was full of praise for Son Heung-min after his goal secured a 2-1 Premier League win over Luton.\n",
            "Predicted Sentiment: neutral\n",
            "\n",
            "text: Planning for double gameweeks - fantasy football tips It's time for Fantasy Football players to start planning the rest of their season - Alistair Bruce-Ball previews gameweek 30.\n",
            "Predicted Sentiment: neutral\n",
            "\n",
            "text: Palmer a tempting captain - fantasy football tips Cole Palmer is an obvious candidate for the captaincy, but there is plenty of competition. says Alistair Bruce-Ball.\n",
            "Predicted Sentiment: negative\n",
            "\n",
            "text: Little chance of late entrants to Scotland squad - gossip Latest from Scotland camp, Rangers player's father on future and Aberdeen captain on Crohn's Disease battle.\n",
            "Predicted Sentiment: neutral\n",
            "\n",
            "text: Heading damaged my body and I played on autopilot - Varane Raphael Varane says he has \"damaged his body\" because of the continued impact of heading the ball.\n",
            "Predicted Sentiment: negative\n",
            "\n",
            "text: Who is a warrior? - Garth Crooks' Team of the Week Which players impressed our football pundit Garth Crooks enough to make his latest Team of the Week?\n",
            "Predicted Sentiment: neutral\n",
            "\n",
            "text: 'Unacceptable' Spurs 'didn't put the effort in' - Son Tottenham \"didn't put in the effort\" and need a \"big wake-up call\" after their defeat by Fulham at Craven Cottage, says captain Son Heung-min.\n",
            "Predicted Sentiment: neutral\n",
            "\n",
            "text: Tottenham Hotspur v Nottingham Forest team news Preview followed by live coverage of Sunday's Premier League game between Tottenham Hotspur and Nottingham Forest.\n",
            "Predicted Sentiment: neutral\n",
            "\n",
            "text: Financial reality of Championship would be 'insane' BBC Radio Solent's Portsmouth commentator Andrew Moon reacts to news that an independent regulator will be introduced.\n",
            "Predicted Sentiment: neutral\n",
            "\n",
            "Aggregated Sentiment Polarity: -0.2222222222222222\n"
          ]
        }
      ]
    },
    {
      "cell_type": "code",
      "source": [
        "import csv\n",
        "with open('sentiment_data.csv', mode='a', newline='') as file:\n",
        "    writer = csv.writer(file)\n",
        "    writer.writerow(['Name', 'Aggregated Sentiment'])\n"
      ],
      "metadata": {
        "id": "FafTgi3UlND7"
      },
      "execution_count": null,
      "outputs": []
    },
    {
      "cell_type": "code",
      "source": [
        "with open('sentiment_data.csv', mode='a', newline='') as file:\n",
        "    writer = csv.writer(file)\n",
        "    writer.writerow([last_name, aggregated_sentiment])\n",
        "\n",
        "print(\"Data has been written to sentiment_data.csv\")"
      ],
      "metadata": {
        "colab": {
          "base_uri": "https://localhost:8080/"
        },
        "id": "oF9yWx69m7Kr",
        "outputId": "4aa1a7ef-e1fd-4405-b3ec-f14dcf52527b"
      },
      "execution_count": null,
      "outputs": [
        {
          "output_type": "stream",
          "name": "stdout",
          "text": [
            "Data has been written to sentiment_data.csv\n"
          ]
        }
      ]
    }
  ]
}